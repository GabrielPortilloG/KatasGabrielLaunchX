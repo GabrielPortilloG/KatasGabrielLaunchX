{
 "cells": [
  {
   "cell_type": "markdown",
   "metadata": {},
   "source": [
    "## Intenta realizar los ejercicios descritos en la documentacion 10."
   ]
  },
  {
   "cell_type": "code",
   "execution_count": 1,
   "metadata": {},
   "outputs": [
    {
     "ename": "FileNotFoundError",
     "evalue": "[Errno 2] No such file or directory: '/path/to/mars.jpg'",
     "output_type": "error",
     "traceback": [
      "\u001b[1;31m---------------------------------------------------------------------------\u001b[0m",
      "\u001b[1;31mFileNotFoundError\u001b[0m                         Traceback (most recent call last)",
      "\u001b[1;32mc:\\Users\\luis_\\OneDrive\\Documentos\\Launch X\\kata10.ipynb Cell 2'\u001b[0m in \u001b[0;36m<module>\u001b[1;34m\u001b[0m\n\u001b[1;32m----> <a href='vscode-notebook-cell:/c%3A/Users/luis_/OneDrive/Documentos/Launch%20X/kata10.ipynb#ch0000000?line=0'>1</a>\u001b[0m \u001b[39mopen\u001b[39;49m(\u001b[39m\"\u001b[39;49m\u001b[39m/path/to/mars.jpg\u001b[39;49m\u001b[39m\"\u001b[39;49m)\n",
      "\u001b[1;31mFileNotFoundError\u001b[0m: [Errno 2] No such file or directory: '/path/to/mars.jpg'"
     ]
    }
   ],
   "source": [
    "open(\"/path/to/mars.jpg\")"
   ]
  },
  {
   "cell_type": "code",
   "execution_count": 2,
   "metadata": {},
   "outputs": [
    {
     "ename": "FileNotFoundError",
     "evalue": "[Errno 2] No such file or directory: '/path/to/mars.jpg'",
     "output_type": "error",
     "traceback": [
      "\u001b[1;31m---------------------------------------------------------------------------\u001b[0m",
      "\u001b[1;31mFileNotFoundError\u001b[0m                         Traceback (most recent call last)",
      "\u001b[1;32mc:\\Users\\luis_\\OneDrive\\Documentos\\Launch X\\kata10.ipynb Cell 3'\u001b[0m in \u001b[0;36m<module>\u001b[1;34m\u001b[0m\n\u001b[0;32m      <a href='vscode-notebook-cell:/c%3A/Users/luis_/OneDrive/Documentos/Launch%20X/kata10.ipynb#ch0000002?line=1'>2</a>\u001b[0m     \u001b[39mopen\u001b[39m(\u001b[39m\"\u001b[39m\u001b[39m/path/to/mars.jpg\u001b[39m\u001b[39m\"\u001b[39m)\n\u001b[0;32m      <a href='vscode-notebook-cell:/c%3A/Users/luis_/OneDrive/Documentos/Launch%20X/kata10.ipynb#ch0000002?line=3'>4</a>\u001b[0m \u001b[39mif\u001b[39;00m \u001b[39m__name__\u001b[39m \u001b[39m==\u001b[39m \u001b[39m'\u001b[39m\u001b[39m__main__\u001b[39m\u001b[39m'\u001b[39m:\n\u001b[1;32m----> <a href='vscode-notebook-cell:/c%3A/Users/luis_/OneDrive/Documentos/Launch%20X/kata10.ipynb#ch0000002?line=4'>5</a>\u001b[0m     main()\n",
      "\u001b[1;32mc:\\Users\\luis_\\OneDrive\\Documentos\\Launch X\\kata10.ipynb Cell 3'\u001b[0m in \u001b[0;36mmain\u001b[1;34m()\u001b[0m\n\u001b[0;32m      <a href='vscode-notebook-cell:/c%3A/Users/luis_/OneDrive/Documentos/Launch%20X/kata10.ipynb#ch0000002?line=0'>1</a>\u001b[0m \u001b[39mdef\u001b[39;00m \u001b[39mmain\u001b[39m():\n\u001b[1;32m----> <a href='vscode-notebook-cell:/c%3A/Users/luis_/OneDrive/Documentos/Launch%20X/kata10.ipynb#ch0000002?line=1'>2</a>\u001b[0m     \u001b[39mopen\u001b[39;49m(\u001b[39m\"\u001b[39;49m\u001b[39m/path/to/mars.jpg\u001b[39;49m\u001b[39m\"\u001b[39;49m)\n",
      "\u001b[1;31mFileNotFoundError\u001b[0m: [Errno 2] No such file or directory: '/path/to/mars.jpg'"
     ]
    }
   ],
   "source": [
    "def main():\n",
    "    open(\"/path/to/mars.jpg\")\n",
    "\n",
    "if __name__ == '__main__':\n",
    "    main()"
   ]
  },
  {
   "cell_type": "code",
   "execution_count": 4,
   "metadata": {},
   "outputs": [
    {
     "name": "stdout",
     "output_type": "stream",
     "text": [
      "el Archivo no encontrado\n"
     ]
    }
   ],
   "source": [
    "def main():\n",
    "    try:\n",
    "        open('config.txt')\n",
    "    except FileNotFoundError:\n",
    "        print(\"El archivo no se encontro\")\n",
    "\n",
    "if __name__ == '__main__':\n",
    "    main()"
   ]
  },
  {
   "cell_type": "code",
   "execution_count": 5,
   "metadata": {},
   "outputs": [
    {
     "name": "stdout",
     "output_type": "stream",
     "text": [
      "El archivo no se encontro\n"
     ]
    }
   ],
   "source": [
    "def main():\n",
    "    try:\n",
    "        open('config.txt')\n",
    "    except FileNotFoundError:\n",
    "        print(\"El archivo no se encontro\")\n",
    "    except IsADirectoryError:\n",
    "        print(\"No se a puede abrir el archivo\")\n",
    "    except (BlockingIOError, TimeoutError):\n",
    "        print(\"Demasaido tiempo de carga, no se puedo abrir el archivo\")\n",
    "\n",
    "if __name__ == '__main__':\n",
    "    main()"
   ]
  },
  {
   "cell_type": "code",
   "execution_count": 6,
   "metadata": {},
   "outputs": [
    {
     "name": "stdout",
     "output_type": "stream",
     "text": [
      "El archivo no se encontro [Errno 2] No such file or directory: 'config.txt'\n"
     ]
    }
   ],
   "source": [
    "def main():\n",
    "    try:\n",
    "        open('config.txt')\n",
    "    except FileNotFoundError as err:\n",
    "        print(\"El archivo no se encontro\",err)\n",
    "    except IsADirectoryError as err:\n",
    "        print(\"No se a puede abrir el archivo\",err)\n",
    "    except (BlockingIOError , TimeoutError) as err:\n",
    "        print(\"Demasaido tiempo de carga, no se puedo abrir el archivo\",err)\n",
    "\n",
    "if __name__ == '__main__':\n",
    "    main()"
   ]
  },
  {
   "cell_type": "code",
   "execution_count": 7,
   "metadata": {},
   "outputs": [
    {
     "name": "stdout",
     "output_type": "stream",
     "text": [
      "Archivo no encontrado\n"
     ]
    }
   ],
   "source": [
    "def main():\n",
    "    try:\n",
    "        open('config.txt')\n",
    "    except OSError as err:\n",
    "        if err.errno==2:\n",
    "            print(\"Archivo no encontrado\")\n",
    "        elif err.errno==13:\n",
    "            print(\"No se a podido abrir el archivo\")\n",
    "        elif err.errno==1 or err.errno==110:\n",
    "            print(\"Mucha carga, no se pudo leer el archivo\")\n",
    "\n",
    "if __name__ == '__main__':\n",
    "    main()"
   ]
  },
  {
   "cell_type": "code",
   "execution_count": 7,
   "metadata": {},
   "outputs": [
    {
     "data": {
      "text/plain": [
       "'El agua sobrante despues de 2 dias es: -10 litros'"
      ]
     },
     "execution_count": 7,
     "metadata": {},
     "output_type": "execute_result"
    }
   ],
   "source": [
    "def agua(astronautas, agua, dias):\n",
    "    uDiario = astronautas * 11\n",
    "    uTotal = uDiario * dias\n",
    "    aguaS = agua - uTotal\n",
    "    return f\"El agua sobrante despues de {dias} dias es: {aguaS} litros\"\n",
    "\n",
    "agua(5, 100, 2)"
   ]
  },
  {
   "cell_type": "code",
   "execution_count": 8,
   "metadata": {},
   "outputs": [
    {
     "ename": "NameError",
     "evalue": "name 'alert_navigation_system' is not defined",
     "output_type": "error",
     "traceback": [
      "\u001b[1;31m---------------------------------------------------------------------------\u001b[0m",
      "\u001b[1;31mRuntimeError\u001b[0m                              Traceback (most recent call last)",
      "\u001b[1;32mc:\\Users\\gabri\\Desktop\\launch x\\kata10.ipynb Cell 9'\u001b[0m in \u001b[0;36m<module>\u001b[1;34m\u001b[0m\n\u001b[0;32m      <a href='vscode-notebook-cell:/c%3A/Users/gabri/Desktop/launch%20x/kata10.ipynb#ch0000008?line=8'>9</a>\u001b[0m \u001b[39mtry\u001b[39;00m:\n\u001b[1;32m---> <a href='vscode-notebook-cell:/c%3A/Users/gabri/Desktop/launch%20x/kata10.ipynb#ch0000008?line=9'>10</a>\u001b[0m     agua(\u001b[39m5\u001b[39;49m, \u001b[39m100\u001b[39;49m, \u001b[39m2\u001b[39;49m)\n\u001b[0;32m     <a href='vscode-notebook-cell:/c%3A/Users/gabri/Desktop/launch%20x/kata10.ipynb#ch0000008?line=10'>11</a>\u001b[0m \u001b[39mexcept\u001b[39;00m \u001b[39mRuntimeError\u001b[39;00m \u001b[39mas\u001b[39;00m err:\n",
      "\u001b[1;32mc:\\Users\\gabri\\Desktop\\launch x\\kata10.ipynb Cell 9'\u001b[0m in \u001b[0;36magua\u001b[1;34m(astronautas, agua, dias)\u001b[0m\n\u001b[0;32m      <a href='vscode-notebook-cell:/c%3A/Users/gabri/Desktop/launch%20x/kata10.ipynb#ch0000008?line=4'>5</a>\u001b[0m \u001b[39mif\u001b[39;00m aguaS \u001b[39m<\u001b[39m \u001b[39m0\u001b[39m:\n\u001b[1;32m----> <a href='vscode-notebook-cell:/c%3A/Users/gabri/Desktop/launch%20x/kata10.ipynb#ch0000008?line=5'>6</a>\u001b[0m     \u001b[39mraise\u001b[39;00m \u001b[39mRuntimeError\u001b[39;00m(\u001b[39mf\u001b[39m\u001b[39m\"\u001b[39m\u001b[39mNo hay suficiente agua para los \u001b[39m\u001b[39m{\u001b[39;00mastronautas\u001b[39m}\u001b[39;00m\u001b[39m astronautas despues de \u001b[39m\u001b[39m{\u001b[39;00mdias\u001b[39m}\u001b[39;00m\u001b[39m dias!\u001b[39m\u001b[39m\"\u001b[39m)\n\u001b[0;32m      <a href='vscode-notebook-cell:/c%3A/Users/gabri/Desktop/launch%20x/kata10.ipynb#ch0000008?line=6'>7</a>\u001b[0m \u001b[39mreturn\u001b[39;00m \u001b[39mf\u001b[39m\u001b[39m\"\u001b[39m\u001b[39mEl agua sobrante despues de \u001b[39m\u001b[39m{\u001b[39;00mdias\u001b[39m}\u001b[39;00m\u001b[39m dias es: \u001b[39m\u001b[39m{\u001b[39;00maguaS\u001b[39m}\u001b[39;00m\u001b[39m litros\u001b[39m\u001b[39m\"\u001b[39m\n",
      "\u001b[1;31mRuntimeError\u001b[0m: No hay suficiente agua para los 5 astronautas despues de 2 dias!",
      "\nDuring handling of the above exception, another exception occurred:\n",
      "\u001b[1;31mNameError\u001b[0m                                 Traceback (most recent call last)",
      "\u001b[1;32mc:\\Users\\gabri\\Desktop\\launch x\\kata10.ipynb Cell 9'\u001b[0m in \u001b[0;36m<module>\u001b[1;34m\u001b[0m\n\u001b[0;32m     <a href='vscode-notebook-cell:/c%3A/Users/gabri/Desktop/launch%20x/kata10.ipynb#ch0000008?line=9'>10</a>\u001b[0m     agua(\u001b[39m5\u001b[39m, \u001b[39m100\u001b[39m, \u001b[39m2\u001b[39m)\n\u001b[0;32m     <a href='vscode-notebook-cell:/c%3A/Users/gabri/Desktop/launch%20x/kata10.ipynb#ch0000008?line=10'>11</a>\u001b[0m \u001b[39mexcept\u001b[39;00m \u001b[39mRuntimeError\u001b[39;00m \u001b[39mas\u001b[39;00m err:\n\u001b[1;32m---> <a href='vscode-notebook-cell:/c%3A/Users/gabri/Desktop/launch%20x/kata10.ipynb#ch0000008?line=11'>12</a>\u001b[0m     alert_navigation_system(err)\n",
      "\u001b[1;31mNameError\u001b[0m: name 'alert_navigation_system' is not defined"
     ]
    }
   ],
   "source": [
    "def agua(astronautas, agua, dias):\n",
    "    uDiario = astronautas * 11\n",
    "    uTotal = uDiario * dias\n",
    "    aguaS = agua - uTotal\n",
    "    if aguaS < 0:\n",
    "        raise RuntimeError(f\"No hay suficiente agua para los {astronautas} astronautas despues de {dias} dias!\")\n",
    "    return f\"El agua sobrante despues de {dias} dias es: {aguaS} litros\"\n",
    "\n",
    "try:\n",
    "    agua(5, 100, 2)\n",
    "except RuntimeError as err:\n",
    "    alert_navigation_system(err)\n"
   ]
  },
  {
   "cell_type": "code",
   "execution_count": 10,
   "metadata": {},
   "outputs": [
    {
     "ename": "RuntimeError",
     "evalue": "No hay suficiente agua para los 5 astronautas despues de 2 dias!",
     "output_type": "error",
     "traceback": [
      "\u001b[1;31m---------------------------------------------------------------------------\u001b[0m",
      "\u001b[1;31mRuntimeError\u001b[0m                              Traceback (most recent call last)",
      "\u001b[1;32mc:\\Users\\gabri\\Desktop\\launch x\\kata10.ipynb Cell 10'\u001b[0m in \u001b[0;36m<module>\u001b[1;34m\u001b[0m\n\u001b[0;32m     <a href='vscode-notebook-cell:/c%3A/Users/gabri/Desktop/launch%20x/kata10.ipynb#ch0000009?line=13'>14</a>\u001b[0m         \u001b[39mraise\u001b[39;00m \u001b[39mRuntimeError\u001b[39;00m(\u001b[39mf\u001b[39m\u001b[39m\"\u001b[39m\u001b[39mNo hay suficiente agua para los \u001b[39m\u001b[39m{\u001b[39;00mastronautas\u001b[39m}\u001b[39;00m\u001b[39m astronautas despues de \u001b[39m\u001b[39m{\u001b[39;00mdias\u001b[39m}\u001b[39;00m\u001b[39m dias!\u001b[39m\u001b[39m\"\u001b[39m)\n\u001b[0;32m     <a href='vscode-notebook-cell:/c%3A/Users/gabri/Desktop/launch%20x/kata10.ipynb#ch0000009?line=14'>15</a>\u001b[0m     \u001b[39mreturn\u001b[39;00m \u001b[39mf\u001b[39m\u001b[39m\"\u001b[39m\u001b[39mEl agua sobrante despues de \u001b[39m\u001b[39m{\u001b[39;00mdias\u001b[39m}\u001b[39;00m\u001b[39m dias es: \u001b[39m\u001b[39m{\u001b[39;00maguaS\u001b[39m}\u001b[39;00m\u001b[39m litros\u001b[39m\u001b[39m\"\u001b[39m\n\u001b[1;32m---> <a href='vscode-notebook-cell:/c%3A/Users/gabri/Desktop/launch%20x/kata10.ipynb#ch0000009?line=15'>16</a>\u001b[0m agua(\u001b[39m5\u001b[39;49m, \u001b[39m100\u001b[39;49m, \u001b[39m2\u001b[39;49m)\n",
      "\u001b[1;32mc:\\Users\\gabri\\Desktop\\launch x\\kata10.ipynb Cell 10'\u001b[0m in \u001b[0;36magua\u001b[1;34m(astronautas, agua, dias)\u001b[0m\n\u001b[0;32m     <a href='vscode-notebook-cell:/c%3A/Users/gabri/Desktop/launch%20x/kata10.ipynb#ch0000009?line=11'>12</a>\u001b[0m aguaS \u001b[39m=\u001b[39m agua \u001b[39m-\u001b[39m uTotal\n\u001b[0;32m     <a href='vscode-notebook-cell:/c%3A/Users/gabri/Desktop/launch%20x/kata10.ipynb#ch0000009?line=12'>13</a>\u001b[0m \u001b[39mif\u001b[39;00m aguaS \u001b[39m<\u001b[39m \u001b[39m0\u001b[39m:\n\u001b[1;32m---> <a href='vscode-notebook-cell:/c%3A/Users/gabri/Desktop/launch%20x/kata10.ipynb#ch0000009?line=13'>14</a>\u001b[0m     \u001b[39mraise\u001b[39;00m \u001b[39mRuntimeError\u001b[39;00m(\u001b[39mf\u001b[39m\u001b[39m\"\u001b[39m\u001b[39mNo hay suficiente agua para los \u001b[39m\u001b[39m{\u001b[39;00mastronautas\u001b[39m}\u001b[39;00m\u001b[39m astronautas despues de \u001b[39m\u001b[39m{\u001b[39;00mdias\u001b[39m}\u001b[39;00m\u001b[39m dias!\u001b[39m\u001b[39m\"\u001b[39m)\n\u001b[0;32m     <a href='vscode-notebook-cell:/c%3A/Users/gabri/Desktop/launch%20x/kata10.ipynb#ch0000009?line=14'>15</a>\u001b[0m \u001b[39mreturn\u001b[39;00m \u001b[39mf\u001b[39m\u001b[39m\"\u001b[39m\u001b[39mEl agua sobrante despues de \u001b[39m\u001b[39m{\u001b[39;00mdias\u001b[39m}\u001b[39;00m\u001b[39m dias es: \u001b[39m\u001b[39m{\u001b[39;00maguaS\u001b[39m}\u001b[39;00m\u001b[39m litros\u001b[39m\u001b[39m\"\u001b[39m\n",
      "\u001b[1;31mRuntimeError\u001b[0m: No hay suficiente agua para los 5 astronautas despues de 2 dias!"
     ]
    }
   ],
   "source": [
    "def agua(astronautas, agua, dias):\n",
    "    for argument in [astronautas, agua, dias]:\n",
    "        try:\n",
    "            # Si el argumento es un entero, se realizará la operación\n",
    "            argument / 10\n",
    "        except TypeError:\n",
    "            # TypError será generado en caso de que el valor no sea entero\n",
    "            # Gernera la misma escepción pero con un mejor texto\n",
    "            raise TypeError(f\"Los datos ingresados deben ser tipo 'int', la entrada fue: '{argument}'\")\n",
    "    uDiario = astronautas * 11\n",
    "    uTotal = uDiario * dias\n",
    "    aguaS = agua - uTotal\n",
    "    if aguaS < 0:\n",
    "        raise RuntimeError(f\"No hay suficiente agua para los {astronautas} astronautas despues de {dias} dias!\")\n",
    "    return f\"El agua sobrante despues de {dias} dias es: {aguaS} litros\"\n",
    "agua(5, 100, 2)"
   ]
  }
 ],
 "metadata": {
  "interpreter": {
   "hash": "fbd1fb525c7473c059e43b8e3f489c06f80027639af7ea78fd9669d48e671c97"
  },
  "kernelspec": {
   "display_name": "Python 3.10.1 64-bit",
   "language": "python",
   "name": "python3"
  },
  "language_info": {
   "codemirror_mode": {
    "name": "ipython",
    "version": 3
   },
   "file_extension": ".py",
   "mimetype": "text/x-python",
   "name": "python",
   "nbconvert_exporter": "python",
   "pygments_lexer": "ipython3",
   "version": "3.10.2"
  },
  "orig_nbformat": 4
 },
 "nbformat": 4,
 "nbformat_minor": 2
}
