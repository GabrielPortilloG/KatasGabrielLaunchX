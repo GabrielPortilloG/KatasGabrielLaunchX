{
 "cells": [
  {
   "cell_type": "code",
   "execution_count": 1,
   "metadata": {},
   "outputs": [
    {
     "name": "stdout",
     "output_type": "stream",
     "text": [
      "la fecha de hpy es: 2022-02-13\n"
     ]
    }
   ],
   "source": [
    "# codigo que muesra la fecha.\n",
    "\n",
    "from datetime import date\n",
    "print(f\"la fecha de hpy es: {date.today()}\")"
   ]
  },
  {
   "cell_type": "markdown",
   "metadata": {},
   "source": [
    "Convertidor de unidades.\n",
    "El oficial superior> \"Necesito una cosa más: un programa de conversión entre parsecs y años luz. Tener un programa de este tipo podría ser realmente útil en el puente para trazar nuestro curso\"."
   ]
  },
  {
   "cell_type": "code",
   "execution_count": 2,
   "metadata": {},
   "outputs": [
    {
     "name": "stdout",
     "output_type": "stream",
     "text": [
      "11 parsec, es igual a 35.877159999999996\n",
      "7 lightyears, es igual a 2.1462122419946286\n"
     ]
    }
   ],
   "source": [
    "# codigo del convertidor de unidades.\n",
    "\n",
    "p = 11\n",
    "lg = 7\n",
    "\n",
    "print(f\"{p} parsec, es igual a {p * 3.26156}\")\n",
    "print(f\"{lg} lightyears, es igual a {lg / 3.26156}\")"
   ]
  }
 ],
 "metadata": {
  "interpreter": {
   "hash": "2be5faf79681da6f2a61fdfdd5405d65d042280f7fba6178067603e3a2925119"
  },
  "kernelspec": {
   "display_name": "Python 3.10.2 64-bit",
   "language": "python",
   "name": "python3"
  },
  "language_info": {
   "codemirror_mode": {
    "name": "ipython",
    "version": 3
   },
   "file_extension": ".py",
   "mimetype": "text/x-python",
   "name": "python",
   "nbconvert_exporter": "python",
   "pygments_lexer": "ipython3",
   "version": "3.10.2"
  },
  "orig_nbformat": 4
 },
 "nbformat": 4,
 "nbformat_minor": 2
}
