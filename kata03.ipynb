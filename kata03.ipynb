{
 "cells": [
  {
   "cell_type": "markdown",
   "metadata": {},
   "source": [
    "Uso de operadores and y or."
   ]
  },
  {
   "cell_type": "markdown",
   "metadata": {},
   "source": [
    "En este ejercicio, aprenderás información más matizada sobre cuándo los asteroides representan un peligro para la Tierra, y utilizarás esa información para mejorar nuestro sistema de advertencia. Aquí está la nueva información que necesitas saber:"
   ]
  },
  {
   "cell_type": "markdown",
   "metadata": {},
   "source": [
    "Los asteroides de menos de 25 metros en su dimensión más grande probablemente se quemarán a medida que entren en la atmósfera de la Tierra.\n",
    "\n",
    "Si una pieza de un asteroide que es más grande que 25 metros pero más pequeña que 1000 metros golpeara la Tierra, causaría mucho daño."
   ]
  },
  {
   "cell_type": "code",
   "execution_count": 7,
   "metadata": {},
   "outputs": [
    {
     "name": "stdout",
     "output_type": "stream",
     "text": [
      "el asteroide tiene un diametro de 17, no representa peligro\n"
     ]
    }
   ],
   "source": [
    "# codigo para dar alerta si el diametro del asteirode merece dar una alerta.\n",
    "\n",
    "a1 = 17\n",
    "a2 = 58\n",
    "a3 = 1100\n",
    "\n",
    "if 25 < a1 < 1000:\n",
    "    print(f\"ADVERTENCIA el asteroide tiene un diametro de {a1}\")\n",
    "else:\n",
    "    print(f\"el asteroide tiene un diametro de {a1}, no representa peligro\")"
   ]
  },
  {
   "cell_type": "markdown",
   "metadata": {},
   "source": [
    "La velocidad del asteroide varía en función de lo cerca que esté del sol, y cualquier velocidad superior a 25 kilómetros por segundo (km/s) merece una advertencia."
   ]
  },
  {
   "cell_type": "code",
   "execution_count": 8,
   "metadata": {},
   "outputs": [
    {
     "name": "stdout",
     "output_type": "stream",
     "text": [
      "el asteroide tiene una velociad de 17, no representa peligro\n"
     ]
    }
   ],
   "source": [
    "v1 = 17\n",
    "\n",
    "\n",
    "if 25 < v1:\n",
    "    print(f\"ADVERTENCIA el asteroide tiene una velocidad de {v1}\")\n",
    "else:\n",
    "    print(f\"el asteroide tiene una velociad de {v1}, no representa peligro\")\n"
   ]
  },
  {
   "cell_type": "markdown",
   "metadata": {},
   "source": [
    "Si un asteroide entra en la atmósfera de la Tierra."
   ]
  },
  {
   "cell_type": "code",
   "execution_count": 10,
   "metadata": {},
   "outputs": [
    {
     "name": "stdout",
     "output_type": "stream",
     "text": [
      "ADVERTENCIA, Un asteroide se aproxima\n"
     ]
    }
   ],
   "source": [
    "ad = 58\n",
    "av = 159\n",
    "\n",
    "if av > 25 and ad > 25:\n",
    "    print(\"ADVERTENCIA, Un asteroide se aproxima\")\n",
    "else:\n",
    "    print(\"Todo en orden\")"
   ]
  }
 ],
 "metadata": {
  "interpreter": {
   "hash": "2be5faf79681da6f2a61fdfdd5405d65d042280f7fba6178067603e3a2925119"
  },
  "kernelspec": {
   "display_name": "Python 3.10.2 64-bit",
   "language": "python",
   "name": "python3"
  },
  "language_info": {
   "codemirror_mode": {
    "name": "ipython",
    "version": 3
   },
   "file_extension": ".py",
   "mimetype": "text/x-python",
   "name": "python",
   "nbconvert_exporter": "python",
   "pygments_lexer": "ipython3",
   "version": "3.10.2"
  },
  "orig_nbformat": 4
 },
 "nbformat": 4,
 "nbformat_minor": 2
}
