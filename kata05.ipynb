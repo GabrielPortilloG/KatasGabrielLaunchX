{
 "cells": [
  {
   "cell_type": "markdown",
   "metadata": {},
   "source": [
    "Utilizar operadores aritméticos"
   ]
  },
  {
   "cell_type": "code",
   "execution_count": 10,
   "metadata": {},
   "outputs": [],
   "source": [
    "# Vaariables para almacenar las distancais\n",
    "\n",
    "tierra = 149597870\n",
    "jupiter = 778547200"
   ]
  },
  {
   "cell_type": "code",
   "execution_count": 11,
   "metadata": {},
   "outputs": [
    {
     "name": "stdout",
     "output_type": "stream",
     "text": [
      "la distancia entre los planetas es: 628949330\n"
     ]
    }
   ],
   "source": [
    "if tierra * 0.621 < jupiter * 0.621:\n",
    "    print(f\"la distancia entre los planetas es: {jupiter-tierra}\") \n",
    "else:\n",
    "    print(f\"la distancia entre los palnetas es: {tierra-jupiter}\")    "
   ]
  },
  {
   "cell_type": "markdown",
   "metadata": {},
   "source": [
    "Ejercicio 2: convierte cadenas en números y usa valores absolutos"
   ]
  },
  {
   "cell_type": "code",
   "execution_count": 12,
   "metadata": {},
   "outputs": [],
   "source": [
    "#pedir datos y convertilo en entero\n",
    "distancia = int(input(\"¿distancia del primer planeta\"))\n",
    "distancia2 = int(input(\"¿distancia del segundo planeta\"))"
   ]
  },
  {
   "cell_type": "code",
   "execution_count": 13,
   "metadata": {},
   "outputs": [
    {
     "name": "stdout",
     "output_type": "stream",
     "text": [
      "la distancia entre los planetas es: 628949330\n"
     ]
    }
   ],
   "source": [
    "if distancia * 0.621 < distancia2 * 0.621:\n",
    "    print(f\"la distancia entre los planetas es: {distancia2-distancia}\") \n",
    "else:\n",
    "    print(f\"la distancia entre los palnetas es: {distancia-distancia2}\")  "
   ]
  }
 ],
 "metadata": {
  "interpreter": {
   "hash": "2be5faf79681da6f2a61fdfdd5405d65d042280f7fba6178067603e3a2925119"
  },
  "kernelspec": {
   "display_name": "Python 3.10.2 64-bit",
   "language": "python",
   "name": "python3"
  },
  "language_info": {
   "codemirror_mode": {
    "name": "ipython",
    "version": 3
   },
   "file_extension": ".py",
   "mimetype": "text/x-python",
   "name": "python",
   "nbconvert_exporter": "python",
   "pygments_lexer": "ipython3",
   "version": "3.10.2"
  },
  "orig_nbformat": 4
 },
 "nbformat": 4,
 "nbformat_minor": 2
}
