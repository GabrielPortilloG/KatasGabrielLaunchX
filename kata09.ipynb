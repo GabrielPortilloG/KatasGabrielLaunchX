{
 "cells": [
  {
   "cell_type": "markdown",
   "metadata": {},
   "source": [
    "Ejercicio: Uso de funciones en Python\n",
    "Ejercicio 1: Trabajar con argumentos en funciones"
   ]
  },
  {
   "cell_type": "code",
   "execution_count": 21,
   "metadata": {},
   "outputs": [],
   "source": [
    "# Función para leer 3 tanques de combustible y muestre el promedio\n",
    "\n",
    "def tanquesCombustible (t1,t2,t3):\n",
    "    totalCombustible = (t1+t2+t3)/3\n",
    "    return f\"\"\"\n",
    "    El combutible de los tanque es:\n",
    "    Tanque 1: {t1}\n",
    "    Tanque 2: {t2}\n",
    "    Tamque 3: {t3}\n",
    "    El commbustible total de la cohete es: {totalCombustible}\n",
    "    \"\"\""
   ]
  },
  {
   "cell_type": "code",
   "execution_count": 22,
   "metadata": {},
   "outputs": [
    {
     "name": "stdout",
     "output_type": "stream",
     "text": [
      "\n",
      "    El combutible de los tanque es:\n",
      "    Tanque 1: 40\n",
      "    Tanque 2: 85\n",
      "    Tamque 3: 100\n",
      "    El commbustible total de la cohete es: 75.0\n",
      "    \n"
     ]
    }
   ],
   "source": [
    "# Llamamos a la función que genera el reporte print(funcion(tanque1, tanque2, tanque3))\n",
    "print(tanquesCombustible(40, 85, 100))"
   ]
  },
  {
   "cell_type": "code",
   "execution_count": 23,
   "metadata": {},
   "outputs": [
    {
     "data": {
      "text/plain": [
       "75.0"
      ]
     },
     "execution_count": 23,
     "metadata": {},
     "output_type": "execute_result"
    }
   ],
   "source": [
    "# Función promedio \n",
    "\n",
    "def promedio(values): \n",
    "    totalC = sum(values)\n",
    "    tanques = len(values)\n",
    "    return totalC / tanques\n",
    "\n",
    "promedio([40,85,100])    "
   ]
  },
  {
   "cell_type": "code",
   "execution_count": 24,
   "metadata": {},
   "outputs": [
    {
     "data": {
      "text/plain": [
       "75.0"
      ]
     },
     "execution_count": 24,
     "metadata": {},
     "output_type": "execute_result"
    }
   ],
   "source": [
    "# Actualiza la función\n",
    "\n",
    "def tanquesCombustible (t1,t2,t3):\n",
    "    return f\"\"\"\n",
    "    El combutible de los tanque es:\n",
    "    Tanque 1: {t1}\n",
    "    Tanque 2: {t2}\n",
    "    Tamque 3: {t3}\n",
    "    El commbustible total de la cohete es: {promedio(t1,t2,t3)}\n",
    "    \"\"\"\n",
    "\n",
    "promedio([40,85,100])    "
   ]
  },
  {
   "cell_type": "markdown",
   "metadata": {},
   "source": [
    "Ejercicio 2: Trabajo con argumentos de palabra clave\n",
    "Ejercicio : Trabajar con argumentos de palabras clave en funciones"
   ]
  },
  {
   "cell_type": "code",
   "execution_count": 29,
   "metadata": {},
   "outputs": [
    {
     "name": "stdout",
     "output_type": "stream",
     "text": [
      "\n",
      "    Destino de la mision: marte\n",
      "    llegada al destino: 97 minuteos\n",
      "    Combustible total: 200000 litros\n",
      "    \n"
     ]
    }
   ],
   "source": [
    "# Función con un informe preciso de la misión.\n",
    "\n",
    "def mision(horaLanzamiento, tiempoVuelo, destino, tanquExterno, tanqueInterno):\n",
    "    return f\"\"\"\n",
    "    Destino de la mision: {destino}\n",
    "    llegada al destino: {horaLanzamiento + tiempoVuelo} minuteos\n",
    "    Combustible total: {tanquExterno + tanqueInterno} litros\n",
    "    \"\"\"\n",
    "\n",
    "print(mision(17, 80, \"marte\", 900000, 900000))"
   ]
  },
  {
   "cell_type": "code",
   "execution_count": 31,
   "metadata": {},
   "outputs": [
    {
     "name": "stdout",
     "output_type": "stream",
     "text": [
      "\n",
      "    Destino de la mision: Marte\n",
      "    llegada de destino: 167 minutes\n",
      "    Combustible total: 1800000\n",
      "    \n"
     ]
    }
   ],
   "source": [
    "# Escribe tu nueva función de reporte considerando lo anterior\n",
    "\n",
    "def mision(destino, *minutos, **combustible):\n",
    "    return f\"\"\"\n",
    "    Destino de la mision: {destino}\n",
    "    llegada de destino: {sum(minutos)} minutes\n",
    "    Combustible total: {sum(combustible.values())}\n",
    "    \"\"\"\n",
    "\n",
    "print(mision(\"Marte\", 17, 80, 70, main=900000, external=900000))"
   ]
  },
  {
   "cell_type": "code",
   "execution_count": 36,
   "metadata": {},
   "outputs": [
    {
     "name": "stdout",
     "output_type": "stream",
     "text": [
      "\n",
      "    Destino de la mision: Marte\n",
      "    llegada de destino: 167 minutes\n",
      "    Combustible total: 1800000\n",
      "    tanque1 tiene 900000 litros\n",
      "tanque2 tiene 900000 litros\n",
      "\n"
     ]
    }
   ],
   "source": [
    "# Escribe tu nueva función\n",
    "\n",
    "def mision(destino, *minutos, **combustible):\n",
    "    infoMision = f\"\"\"\n",
    "    Destino de la mision: {destino}\n",
    "    llegada de destino: {sum(minutos)} minutes\n",
    "    Combustible total: {sum(combustible.values())}\n",
    "    \"\"\"\n",
    "    for nomTanques, litros in combustible.items():\n",
    "        infoMision += f\"{nomTanques} tiene {litros} litros\\n\"\n",
    "    return infoMision \n",
    "\n",
    "print(mision(\"Marte\", 17, 80, 70, tanque1=900000, tanque2=900000))"
   ]
  }
 ],
 "metadata": {
  "interpreter": {
   "hash": "2be5faf79681da6f2a61fdfdd5405d65d042280f7fba6178067603e3a2925119"
  },
  "kernelspec": {
   "display_name": "Python 3.10.2 64-bit",
   "language": "python",
   "name": "python3"
  },
  "language_info": {
   "codemirror_mode": {
    "name": "ipython",
    "version": 3
   },
   "file_extension": ".py",
   "mimetype": "text/x-python",
   "name": "python",
   "nbconvert_exporter": "python",
   "pygments_lexer": "ipython3",
   "version": "3.10.2"
  },
  "orig_nbformat": 4
 },
 "nbformat": 4,
 "nbformat_minor": 2
}
